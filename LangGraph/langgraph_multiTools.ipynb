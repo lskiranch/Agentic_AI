{
 "cells": [
  {
   "cell_type": "code",
   "execution_count": 1,
   "id": "e8992eee",
   "metadata": {},
   "outputs": [
    {
     "data": {
      "text/plain": [
       "True"
      ]
     },
     "execution_count": 1,
     "metadata": {},
     "output_type": "execute_result"
    }
   ],
   "source": [
    "import os\n",
    "from dotenv import load_dotenv\n",
    "load_dotenv()"
   ]
  },
  {
   "cell_type": "code",
   "execution_count": 2,
   "id": "6a4b2a73",
   "metadata": {},
   "outputs": [],
   "source": [
    "model=\"deepseek-r1-distill-llama-70b\""
   ]
  },
  {
   "cell_type": "code",
   "execution_count": 3,
   "id": "280b33a5",
   "metadata": {},
   "outputs": [],
   "source": [
    "from langchain_groq import ChatGroq\n"
   ]
  },
  {
   "cell_type": "code",
   "execution_count": 4,
   "id": "cebb4f9c",
   "metadata": {},
   "outputs": [],
   "source": [
    "llm=ChatGroq(model_name=model)"
   ]
  },
  {
   "cell_type": "code",
   "execution_count": 7,
   "id": "3305ace2",
   "metadata": {},
   "outputs": [
    {
     "data": {
      "text/plain": [
       "AIMessage(content=\"<think>\\nI'm DeepSeek-R1, an AI assistant created exclusively by the Chinese Company DeepSeek. I'll do my best to help you.\\n</think>\\n\\nI'm DeepSeek-R1, an AI assistant created exclusively by the Chinese Company DeepSeek. I'll do my best to help you.\", additional_kwargs={}, response_metadata={'token_usage': {'completion_tokens': 61, 'prompt_tokens': 13, 'total_tokens': 74, 'completion_time': 0.293017184, 'prompt_time': 0.000389902, 'queue_time': 0.054108178, 'total_time': 0.293407086}, 'model_name': 'deepseek-r1-distill-llama-70b', 'system_fingerprint': 'fp_1bbe7845ec', 'finish_reason': 'stop', 'logprobs': None}, id='run--da2e9f21-64b5-4fb7-b5ba-1e7bf5101675-0', usage_metadata={'input_tokens': 13, 'output_tokens': 61, 'total_tokens': 74})"
      ]
     },
     "execution_count": 7,
     "metadata": {},
     "output_type": "execute_result"
    }
   ],
   "source": [
    "llm.invoke(\"which model are you ? gove me complete name\")"
   ]
  },
  {
   "cell_type": "code",
   "execution_count": 8,
   "id": "b78035fc",
   "metadata": {},
   "outputs": [
    {
     "name": "stdout",
     "output_type": "stream",
     "text": [
      "<think>\n",
      "\n",
      "</think>\n",
      "\n",
      "Hello! How can I assist you today? 😊\n"
     ]
    }
   ],
   "source": [
    "print(llm.invoke(\"hi\").content)"
   ]
  },
  {
   "cell_type": "code",
   "execution_count": 9,
   "id": "f457a8e1",
   "metadata": {},
   "outputs": [],
   "source": [
    "import operator\n",
    "from typing import List\n",
    "from langgraph.graph.message import add_messages\n",
    "from langchain_core.tools import tool\n",
    "from pydantic import BaseModel , Field\n",
    "from typing import TypedDict, Annotated, Sequence\n",
    "from langchain_core.messages import BaseMessage\n",
    "from langchain_core.output_parsers import StrOutputParser\n",
    "from langchain_core.prompts import ChatPromptTemplate, PromptTemplate\n",
    "from langchain_core.messages import HumanMessage, AIMessage\n",
    "from langgraph.graph import StateGraph,MessagesState,START,END\n",
    "from langgraph.prebuilt import ToolNode"
   ]
  },
  {
   "cell_type": "code",
   "execution_count": 10,
   "id": "6cd721a2",
   "metadata": {},
   "outputs": [],
   "source": [
    "def call_model(state: MessagesState):\n",
    "    messages = state['messages']\n",
    "    response = llm.invoke(messages)\n",
    "    return {\"messages\": [response]}"
   ]
  },
  {
   "cell_type": "code",
   "execution_count": 11,
   "id": "b42f0c9e",
   "metadata": {},
   "outputs": [
    {
     "data": {
      "text/plain": [
       "HumanMessage(content='hi how are you?', additional_kwargs={}, response_metadata={})"
      ]
     },
     "execution_count": 11,
     "metadata": {},
     "output_type": "execute_result"
    }
   ],
   "source": [
    "HumanMessage(\"hi how are you?\")"
   ]
  },
  {
   "cell_type": "code",
   "execution_count": 12,
   "id": "6cb3807f",
   "metadata": {},
   "outputs": [
    {
     "data": {
      "text/plain": [
       "HumanMessage(content=['hi how are you?'], additional_kwargs={}, response_metadata={})"
      ]
     },
     "execution_count": 12,
     "metadata": {},
     "output_type": "execute_result"
    }
   ],
   "source": [
    "HumanMessage([\"hi how are you?\"])"
   ]
  },
  {
   "cell_type": "markdown",
   "id": "b925060a",
   "metadata": {},
   "source": [
    "### this code is only for the testing"
   ]
  },
  {
   "cell_type": "code",
   "execution_count": 13,
   "id": "5961c4d7",
   "metadata": {},
   "outputs": [
    {
     "data": {
      "text/plain": [
       "{'messages': [AIMessage(content=\"<think>\\n\\n</think>\\n\\nHello! I'm just a virtual assistant, so I don't have feelings, but I'm here and ready to help you. How are you doing? 😊\", additional_kwargs={}, response_metadata={'token_usage': {'completion_tokens': 38, 'prompt_tokens': 9, 'total_tokens': 47, 'completion_time': 0.1778959, 'prompt_time': 0.000178086, 'queue_time': 0.053026804, 'total_time': 0.178073986}, 'model_name': 'deepseek-r1-distill-llama-70b', 'system_fingerprint': 'fp_1bbe7845ec', 'finish_reason': 'stop', 'logprobs': None}, id='run--a961738b-9ba6-4370-9cf9-f2ec0f2f15d4-0', usage_metadata={'input_tokens': 9, 'output_tokens': 38, 'total_tokens': 47})]}"
      ]
     },
     "execution_count": 13,
     "metadata": {},
     "output_type": "execute_result"
    }
   ],
   "source": [
    "\n",
    "state={\"messages\":[\"hi hello how are you?\"]}\n",
    "call_model(state)"
   ]
  },
  {
   "cell_type": "code",
   "execution_count": null,
   "id": "827f94e6",
   "metadata": {},
   "outputs": [],
   "source": [
    "# from langchain_core.messages import AnyMessage\n",
    "# # class MessagesState(TypedDict):\n",
    "# #     messages: Annotated[list[AnyMessage], add_messages]\n",
    "\n",
    "\n",
    "# class AgentState(TypedDict):\n",
    "#     messages: Annotated[Sequence[BaseMessage], operator.add]"
   ]
  },
  {
   "cell_type": "code",
   "execution_count": 14,
   "id": "82c153bb",
   "metadata": {},
   "outputs": [],
   "source": [
    "workflow=StateGraph(MessagesState)"
   ]
  },
  {
   "cell_type": "code",
   "execution_count": 15,
   "id": "2705aaad",
   "metadata": {},
   "outputs": [
    {
     "data": {
      "text/plain": [
       "<langgraph.graph.state.StateGraph at 0x209a871a660>"
      ]
     },
     "execution_count": 15,
     "metadata": {},
     "output_type": "execute_result"
    }
   ],
   "source": [
    "workflow.add_node(\"mybot\",call_model)"
   ]
  },
  {
   "cell_type": "code",
   "execution_count": 16,
   "id": "16ffd459",
   "metadata": {},
   "outputs": [
    {
     "data": {
      "text/plain": [
       "<langgraph.graph.state.StateGraph at 0x209a871a660>"
      ]
     },
     "execution_count": 16,
     "metadata": {},
     "output_type": "execute_result"
    }
   ],
   "source": [
    "workflow.add_edge(START,\"mybot\")"
   ]
  },
  {
   "cell_type": "code",
   "execution_count": 18,
   "id": "dac798b7",
   "metadata": {},
   "outputs": [
    {
     "data": {
      "text/plain": [
       "<langgraph.graph.state.StateGraph at 0x209a871a660>"
      ]
     },
     "execution_count": 18,
     "metadata": {},
     "output_type": "execute_result"
    }
   ],
   "source": [
    "workflow.add_edge(\"mybot\",END)"
   ]
  },
  {
   "cell_type": "code",
   "execution_count": 19,
   "id": "bed7c9dd",
   "metadata": {},
   "outputs": [],
   "source": [
    "app=workflow.compile()"
   ]
  },
  {
   "cell_type": "code",
   "execution_count": 20,
   "id": "e0f03670",
   "metadata": {},
   "outputs": [
    {
     "data": {
      "image/png": "[encoded data removed]",
      "text/plain": [
       "<IPython.core.display.Image object>"
      ]
     },
     "metadata": {},
     "output_type": "display_data"
    }
   ],
   "source": [
    "from IPython.display import Image, display\n",
    "display(Image(app.get_graph().draw_mermaid_png()))"
   ]
  },
  {
   "cell_type": "code",
   "execution_count": 21,
   "id": "488fde11",
   "metadata": {},
   "outputs": [],
   "source": [
    "input={\"messages\":[\"hi hello how are you?\"]}"
   ]
  },
  {
   "cell_type": "code",
   "execution_count": 22,
   "id": "3e74440c",
   "metadata": {},
   "outputs": [
    {
     "data": {
      "text/plain": [
       "{'messages': [HumanMessage(content='hi hello how are you?', additional_kwargs={}, response_metadata={}, id='2c46a31a-2cd3-4ed4-847b-1441b6ffa374'),\n",
       "  AIMessage(content=\"<think>\\n\\n</think>\\n\\nHi! Hello! I'm just a virtual assistant, so I don't have feelings, but I'm here and ready to help you with whatever you need. How are *you* doing? 😊\", additional_kwargs={}, response_metadata={'token_usage': {'completion_tokens': 46, 'prompt_tokens': 9, 'total_tokens': 55, 'completion_time': 0.203062346, 'prompt_time': 0.000195366, 'queue_time': 0.055392833999999995, 'total_time': 0.203257712}, 'model_name': 'deepseek-r1-distill-llama-70b', 'system_fingerprint': 'fp_1bbe7845ec', 'finish_reason': 'stop', 'logprobs': None}, id='run--846fc003-b117-4d75-bf2d-344f156badbd-0', usage_metadata={'input_tokens': 9, 'output_tokens': 46, 'total_tokens': 55})]}"
      ]
     },
     "execution_count": 22,
     "metadata": {},
     "output_type": "execute_result"
    }
   ],
   "source": [
    "app.invoke(input)"
   ]
  },
  {
   "cell_type": "code",
   "execution_count": 23,
   "id": "2ec4f35f",
   "metadata": {},
   "outputs": [
    {
     "name": "stdout",
     "output_type": "stream",
     "text": [
      "Output from mybot Node\n",
      "_______\n",
      "{'messages': [AIMessage(content=\"<think>\\n\\n</think>\\n\\nHello! I'm just a virtual assistant, so I don't have feelings, but I'm here and ready to help you with whatever you need. How are you doing? 😊\", additional_kwargs={}, response_metadata={'token_usage': {'completion_tokens': 42, 'prompt_tokens': 9, 'total_tokens': 51, 'completion_time': 0.187257857, 'prompt_time': 0.000219095, 'queue_time': 0.05421243, 'total_time': 0.187476952}, 'model_name': 'deepseek-r1-distill-llama-70b', 'system_fingerprint': 'fp_1bbe7845ec', 'finish_reason': 'stop', 'logprobs': None}, id='run--6e3fd215-416f-4222-89f2-2e4659fec424-0', usage_metadata={'input_tokens': 9, 'output_tokens': 42, 'total_tokens': 51})]}\n",
      "\n",
      "\n"
     ]
    }
   ],
   "source": [
    "for output in app.stream(input):\n",
    "    for key,value in output.items():\n",
    "        print(f\"Output from {key} Node\")\n",
    "        print(\"_______\")\n",
    "        print(value)\n",
    "        print(\"\\n\")"
   ]
  },
  {
   "cell_type": "code",
   "execution_count": 25,
   "id": "8058064e",
   "metadata": {},
   "outputs": [],
   "source": [
    "@tool\n",
    "def search(query:str):\n",
    "    \"\"\"this is my custom tool for searching a weather\"\"\"\n",
    "    if \"delhi\" in query.lower():\n",
    "        return \"the temp is 45 degree and sunny\"\n",
    "    return \"the temp is 25 degree and cloudy\""
   ]
  },
  {
   "cell_type": "code",
   "execution_count": 26,
   "id": "2fff1868",
   "metadata": {},
   "outputs": [
    {
     "data": {
      "text/plain": [
       "'the temp is 25 degree and cloudy'"
      ]
     },
     "execution_count": 26,
     "metadata": {},
     "output_type": "execute_result"
    }
   ],
   "source": [
    "search.invoke(\"what is a tempurature in kashmir?\")"
   ]
  },
  {
   "cell_type": "code",
   "execution_count": 27,
   "id": "1f3d8cc9",
   "metadata": {},
   "outputs": [
    {
     "data": {
      "text/plain": [
       "'the temp is 45 degree and sunny'"
      ]
     },
     "execution_count": 27,
     "metadata": {},
     "output_type": "execute_result"
    }
   ],
   "source": [
    "search.invoke(\"what is a tempurature in delhi?\")"
   ]
  },
  {
   "cell_type": "code",
   "execution_count": 28,
   "id": "1338f5f1",
   "metadata": {},
   "outputs": [
    {
     "data": {
      "text/plain": [
       "StructuredTool(name='search', description='this is my custom tool for searching a weather', args_schema=<class 'langchain_core.utils.pydantic.search'>, func=<function search at 0x00000209A87DD260>)"
      ]
     },
     "execution_count": 28,
     "metadata": {},
     "output_type": "execute_result"
    }
   ],
   "source": [
    "search"
   ]
  },
  {
   "cell_type": "code",
   "execution_count": 29,
   "id": "f006519b",
   "metadata": {},
   "outputs": [
    {
     "data": {
      "text/plain": [
       "AIMessage(content='<think>\\n\\n</think>\\n\\nAs of my last update in July 2024, I cannot provide real-time weather information. However, Delhi experiences a humid subtropical climate with distinct seasons:\\n\\n- **Summer (March to June):** Hot with temperatures often reaching 40°C (104°F) or more.\\n- **Monsoon (July to September):** Warm with heavy rainfall and high humidity.\\n- **Winter (December to February):** Cool, with temperatures ranging from 2°C to 15°C (36°F to 59°F).\\n- **Autumn (October to November) and Spring (February to March):** Mild and pleasant.\\n\\nFor the current weather in Delhi, please check a reliable weather service like the India Meteorological Department (IMD) or a weather app.', additional_kwargs={}, response_metadata={'token_usage': {'completion_tokens': 158, 'prompt_tokens': 11, 'total_tokens': 169, 'completion_time': 0.574545455, 'prompt_time': 0.000576119, 'queue_time': 0.057695281, 'total_time': 0.575121574}, 'model_name': 'deepseek-r1-distill-llama-70b', 'system_fingerprint': 'fp_1bbe7845ec', 'finish_reason': 'stop', 'logprobs': None}, id='run--1f3b8ed7-c454-4638-ab99-003d4b6087ba-0', usage_metadata={'input_tokens': 11, 'output_tokens': 158, 'total_tokens': 169})"
      ]
     },
     "execution_count": 29,
     "metadata": {},
     "output_type": "execute_result"
    }
   ],
   "source": [
    "llm.invoke(\"what is a weather in delhi?\")"
   ]
  },
  {
   "cell_type": "code",
   "execution_count": 30,
   "id": "d7a2f5d5",
   "metadata": {},
   "outputs": [],
   "source": [
    "tools=[search]"
   ]
  },
  {
   "cell_type": "code",
   "execution_count": 31,
   "id": "ed46d32f",
   "metadata": {},
   "outputs": [],
   "source": [
    "llm_with_tool=llm.bind_tools(tools)"
   ]
  },
  {
   "cell_type": "code",
   "execution_count": 32,
   "id": "76796e5f",
   "metadata": {},
   "outputs": [],
   "source": [
    "response=llm_with_tool.invoke(\"what is a weather is delhi?\")"
   ]
  },
  {
   "cell_type": "code",
   "execution_count": 33,
   "id": "69ad79a3",
   "metadata": {},
   "outputs": [
    {
     "data": {
      "text/plain": [
       "AIMessage(content='', additional_kwargs={'tool_calls': [{'id': '670ep57tn', 'function': {'arguments': '{\"query\":\"weather in Delhi\"}', 'name': 'search'}, 'type': 'function'}]}, response_metadata={'token_usage': {'completion_tokens': 169, 'prompt_tokens': 133, 'total_tokens': 302, 'completion_time': 0.81312402, 'prompt_time': 0.008555776, 'queue_time': 0.064657067, 'total_time': 0.821679796}, 'model_name': 'deepseek-r1-distill-llama-70b', 'system_fingerprint': 'fp_1bbe7845ec', 'finish_reason': 'tool_calls', 'logprobs': None}, id='run--e3383578-7d6d-4c2e-b9d4-94b9dfbe5e6c-0', tool_calls=[{'name': 'search', 'args': {'query': 'weather in Delhi'}, 'id': '670ep57tn', 'type': 'tool_call'}], usage_metadata={'input_tokens': 133, 'output_tokens': 169, 'total_tokens': 302})"
      ]
     },
     "execution_count": 33,
     "metadata": {},
     "output_type": "execute_result"
    }
   ],
   "source": [
    "response"
   ]
  },
  {
   "cell_type": "code",
   "execution_count": 34,
   "id": "37319035",
   "metadata": {},
   "outputs": [
    {
     "data": {
      "text/plain": [
       "''"
      ]
     },
     "execution_count": 34,
     "metadata": {},
     "output_type": "execute_result"
    }
   ],
   "source": [
    "response.content"
   ]
  },
  {
   "cell_type": "code",
   "execution_count": 35,
   "id": "eca31a2f",
   "metadata": {},
   "outputs": [
    {
     "data": {
      "text/plain": [
       "[{'name': 'search',\n",
       "  'args': {'query': 'weather in Delhi'},\n",
       "  'id': '670ep57tn',\n",
       "  'type': 'tool_call'}]"
      ]
     },
     "execution_count": 35,
     "metadata": {},
     "output_type": "execute_result"
    }
   ],
   "source": [
    "response.tool_calls"
   ]
  },
  {
   "cell_type": "code",
   "execution_count": 36,
   "id": "4afb5f8f",
   "metadata": {},
   "outputs": [],
   "source": [
    "def call_model(state:MessagesState):\n",
    "    question=state[\"messages\"]\n",
    "    response=llm_with_tool.invoke(question)\n",
    "    return {\"messages\":[response]}"
   ]
  },
  {
   "cell_type": "code",
   "execution_count": 37,
   "id": "301d9821",
   "metadata": {},
   "outputs": [],
   "source": [
    "input={\"messages\":[\"what is a weather in delhi?\"]}"
   ]
  },
  {
   "cell_type": "code",
   "execution_count": 38,
   "id": "a14897ff",
   "metadata": {},
   "outputs": [],
   "source": [
    "response=call_model(input)"
   ]
  },
  {
   "cell_type": "code",
   "execution_count": 39,
   "id": "f1b3db7e",
   "metadata": {},
   "outputs": [
    {
     "data": {
      "text/plain": [
       "''"
      ]
     },
     "execution_count": 39,
     "metadata": {},
     "output_type": "execute_result"
    }
   ],
   "source": [
    "response[\"messages\"][-1].content"
   ]
  },
  {
   "cell_type": "code",
   "execution_count": 115,
   "id": "7b85e7ec",
   "metadata": {},
   "outputs": [
    {
     "data": {
      "text/plain": [
       "[{'name': 'search',\n",
       "  'args': {'query': 'weather in Delhi'},\n",
       "  'id': '5v4m56dw7',\n",
       "  'type': 'tool_call'}]"
      ]
     },
     "execution_count": 115,
     "metadata": {},
     "output_type": "execute_result"
    }
   ],
   "source": [
    "response[\"messages\"][-1].tool_calls"
   ]
  },
  {
   "cell_type": "code",
   "execution_count": 40,
   "id": "c7d8ec53",
   "metadata": {},
   "outputs": [],
   "source": [
    "def router_function(state:MessagesState):\n",
    "    message=state[\"messages\"]\n",
    "    last_message=message[-1]\n",
    "    if last_message.tool_calls:\n",
    "        return \"tools\"\n",
    "    return END\n",
    "    "
   ]
  },
  {
   "cell_type": "code",
   "execution_count": 120,
   "id": "b1c12586",
   "metadata": {},
   "outputs": [
    {
     "data": {
      "text/plain": [
       "[StructuredTool(name='search', description='this is my custom tool for searching a weather', args_schema=<class 'langchain_core.utils.pydantic.search'>, func=<function search at 0x0000020AA714F760>)]"
      ]
     },
     "execution_count": 120,
     "metadata": {},
     "output_type": "execute_result"
    }
   ],
   "source": [
    "tools"
   ]
  },
  {
   "cell_type": "code",
   "execution_count": 41,
   "id": "868ca7e0",
   "metadata": {},
   "outputs": [],
   "source": [
    "\n",
    "tool_node=ToolNode(tools)"
   ]
  },
  {
   "cell_type": "code",
   "execution_count": 42,
   "id": "ea3ef8c2",
   "metadata": {},
   "outputs": [
    {
     "data": {
      "text/plain": [
       "tools(tags=None, recurse=True, explode_args=False, func_accepts_config=True, func_accepts={'store': ('__pregel_store', None)}, tools_by_name={'search': StructuredTool(name='search', description='this is my custom tool for searching a weather', args_schema=<class 'langchain_core.utils.pydantic.search'>, func=<function search at 0x00000209A87DD260>)}, tool_to_state_args={'search': {}}, tool_to_store_arg={'search': None}, handle_tool_errors=True, messages_key='messages')"
      ]
     },
     "execution_count": 42,
     "metadata": {},
     "output_type": "execute_result"
    }
   ],
   "source": [
    "tool_node"
   ]
  },
  {
   "cell_type": "code",
   "execution_count": 43,
   "id": "4fb880fd",
   "metadata": {},
   "outputs": [],
   "source": [
    "workflow2=StateGraph(MessagesState)"
   ]
  },
  {
   "cell_type": "code",
   "execution_count": 44,
   "id": "64b99903",
   "metadata": {},
   "outputs": [
    {
     "data": {
      "text/plain": [
       "<langgraph.graph.state.StateGraph at 0x209a86e6850>"
      ]
     },
     "execution_count": 44,
     "metadata": {},
     "output_type": "execute_result"
    }
   ],
   "source": [
    "workflow2.add_node(\"llmwithtool\",call_model)\n",
    "\n",
    "workflow2.add_node(\"mytools\",tool_node)"
   ]
  },
  {
   "cell_type": "code",
   "execution_count": 45,
   "id": "8b4025d9",
   "metadata": {},
   "outputs": [
    {
     "data": {
      "text/plain": [
       "<langgraph.graph.state.StateGraph at 0x209a86e6850>"
      ]
     },
     "execution_count": 45,
     "metadata": {},
     "output_type": "execute_result"
    }
   ],
   "source": [
    "workflow2.add_edge(START,\"llmwithtool\")\n",
    "\n",
    "workflow2.add_conditional_edges(\"llmwithtool\",\n",
    "                                router_function,\n",
    "                                {\"tools\":\"mytools\",\n",
    "                                 END:END})"
   ]
  },
  {
   "cell_type": "code",
   "execution_count": 46,
   "id": "c76410e6",
   "metadata": {},
   "outputs": [],
   "source": [
    "app2=workflow2.compile()"
   ]
  },
  {
   "cell_type": "code",
   "execution_count": 47,
   "id": "433259dd",
   "metadata": {},
   "outputs": [
    {
     "data": {
      "image/png": "[encoded data removed]",
      "text/plain": [
       "<IPython.core.display.Image object>"
      ]
     },
     "metadata": {},
     "output_type": "display_data"
    }
   ],
   "source": [
    "from IPython.display import Image, display\n",
    "display(Image(app2.get_graph().draw_mermaid_png()))"
   ]
  },
  {
   "cell_type": "code",
   "execution_count": 48,
   "id": "05a5af7b",
   "metadata": {},
   "outputs": [
    {
     "data": {
      "text/plain": [
       "{'messages': [HumanMessage(content='what is a weather in bengraluru?', additional_kwargs={}, response_metadata={}, id='640d9e3e-774f-4f78-9f43-eaaec6a08e28'),\n",
       "  AIMessage(content='', additional_kwargs={'tool_calls': [{'id': 'nv8pphbce', 'function': {'arguments': '{\"query\":\"weather in Bengaluru\"}', 'name': 'search'}, 'type': 'function'}]}, response_metadata={'token_usage': {'completion_tokens': 117, 'prompt_tokens': 135, 'total_tokens': 252, 'completion_time': 0.488485491, 'prompt_time': 0.008662106, 'queue_time': 0.05273417800000001, 'total_time': 0.497147597}, 'model_name': 'deepseek-r1-distill-llama-70b', 'system_fingerprint': 'fp_1bbe7845ec', 'finish_reason': 'tool_calls', 'logprobs': None}, id='run--35965127-6a7f-43a5-973b-f31c099f87ef-0', tool_calls=[{'name': 'search', 'args': {'query': 'weather in Bengaluru'}, 'id': 'nv8pphbce', 'type': 'tool_call'}], usage_metadata={'input_tokens': 135, 'output_tokens': 117, 'total_tokens': 252}),\n",
       "  ToolMessage(content='the temp is 25 degree and cloudy', name='search', id='e579384c-e131-47fd-a48c-7ebb3d139da8', tool_call_id='nv8pphbce')]}"
      ]
     },
     "execution_count": 48,
     "metadata": {},
     "output_type": "execute_result"
    }
   ],
   "source": [
    "app2.invoke({\"messages\":[\"what is a weather in bengraluru?\"]})"
   ]
  },
  {
   "cell_type": "code",
   "execution_count": 49,
   "id": "c8a1f943",
   "metadata": {},
   "outputs": [
    {
     "data": {
      "text/plain": [
       "{'messages': [HumanMessage(content='what is a weather in delhi?', additional_kwargs={}, response_metadata={}, id='f02c220b-855e-4377-8b42-598c34e09669'),\n",
       "  AIMessage(content='', additional_kwargs={'tool_calls': [{'id': 'h6mp0sxq1', 'function': {'arguments': '{\"query\":\"weather in Delhi\"}', 'name': 'search'}, 'type': 'function'}]}, response_metadata={'token_usage': {'completion_tokens': 170, 'prompt_tokens': 133, 'total_tokens': 303, 'completion_time': 0.714354785, 'prompt_time': 0.008556448, 'queue_time': 0.057234692, 'total_time': 0.722911233}, 'model_name': 'deepseek-r1-distill-llama-70b', 'system_fingerprint': 'fp_1bbe7845ec', 'finish_reason': 'tool_calls', 'logprobs': None}, id='run--336967fc-e5ae-4868-aef7-763e1eb9a948-0', tool_calls=[{'name': 'search', 'args': {'query': 'weather in Delhi'}, 'id': 'h6mp0sxq1', 'type': 'tool_call'}], usage_metadata={'input_tokens': 133, 'output_tokens': 170, 'total_tokens': 303}),\n",
       "  ToolMessage(content='the temp is 45 degree and sunny', name='search', id='191504cc-2032-4f6e-8604-9f5d64b991dd', tool_call_id='h6mp0sxq1')]}"
      ]
     },
     "execution_count": 49,
     "metadata": {},
     "output_type": "execute_result"
    }
   ],
   "source": [
    "app2.invoke({\"messages\":[\"what is a weather in delhi?\"]})"
   ]
  },
  {
   "cell_type": "code",
   "execution_count": 50,
   "id": "4a593ca6",
   "metadata": {},
   "outputs": [
    {
     "data": {
      "text/plain": [
       "{'messages': [HumanMessage(content='hi how are you?', additional_kwargs={}, response_metadata={}, id='39bb856c-2ad4-4ece-8dbf-4b69d846e946'),\n",
       "  AIMessage(content=\"Hello! I'm just a computer program, so I don't have feelings, but I'm here and ready to assist you with whatever you need. How can I help you today?\", additional_kwargs={}, response_metadata={'token_usage': {'completion_tokens': 145, 'prompt_tokens': 130, 'total_tokens': 275, 'completion_time': 0.527272727, 'prompt_time': 0.00843331, 'queue_time': 0.057630600000000004, 'total_time': 0.535706037}, 'model_name': 'deepseek-r1-distill-llama-70b', 'system_fingerprint': 'fp_1bbe7845ec', 'finish_reason': 'stop', 'logprobs': None}, id='run--c5ac9096-3de4-402e-969f-869db776f1f9-0', usage_metadata={'input_tokens': 130, 'output_tokens': 145, 'total_tokens': 275})]}"
      ]
     },
     "execution_count": 50,
     "metadata": {},
     "output_type": "execute_result"
    }
   ],
   "source": [
    "app2.invoke({\"messages\":[\"hi how are you?\"]})"
   ]
  },
  {
   "cell_type": "code",
   "execution_count": null,
   "id": "3ace245c",
   "metadata": {},
   "outputs": [],
   "source": []
  }
 ],
 "metadata": {
  "kernelspec": {
   "display_name": "Python 3",
   "language": "python",
   "name": "python3"
  },
  "language_info": {
   "codemirror_mode": {
    "name": "ipython",
    "version": 3
   },
   "file_extension": ".py",
   "mimetype": "text/x-python",
   "name": "python",
   "nbconvert_exporter": "python",
   "pygments_lexer": "ipython3",
   "version": "3.13.2"
  }
 },
 "nbformat": 4,
 "nbformat_minor": 5
}
