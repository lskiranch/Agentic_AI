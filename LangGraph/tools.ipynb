{
 "cells": [
  {
   "cell_type": "code",
   "execution_count": 1,
   "metadata": {},
   "outputs": [],
   "source": [
    "from langchain_community.tools import WikipediaQueryRun\n",
    "from langchain_community.utilities import WikipediaAPIWrapper"
   ]
  },
  {
   "cell_type": "code",
   "execution_count": 4,
   "metadata": {},
   "outputs": [],
   "source": []
  },
  {
   "cell_type": "code",
   "execution_count": 12,
   "metadata": {},
   "outputs": [],
   "source": [
    "wikipedia = WikipediaQueryRun(api_wrapper=WikipediaAPIWrapper(top_k_results=2,doc_content_chars_max=500 ))"
   ]
  },
  {
   "cell_type": "code",
   "execution_count": 17,
   "metadata": {},
   "outputs": [
    {
     "data": {
      "text/plain": [
       "'A wrapper around Wikipedia. Useful for when you need to answer general questions about people, places, companies, facts, historical events, or other subjects. Input should be a search query.'"
      ]
     },
     "execution_count": 17,
     "metadata": {},
     "output_type": "execute_result"
    }
   ],
   "source": [
    "wikipedia.description"
   ]
  },
  {
   "cell_type": "code",
   "execution_count": 13,
   "metadata": {},
   "outputs": [
    {
     "data": {
      "text/plain": [
       "'Page: Narendra Modi\\nSummary: Narendra Damodardas Modi (born 17 September 1950) is an Indian politician who has served as the  prime minister of India since 2014. Modi was the chief minister of Gujarat from 2001 to 2014 and is the member of parliament (MP) for Varanasi. He is a member of the Bharatiya Janata Party (BJP) and of the Rashtriya Swayamsevak Sangh (RSS), a right-wing Hindu nationalist paramilitary volunteer organisation. He is the longest-serving prime minister outside the Indian Natio'"
      ]
     },
     "execution_count": 13,
     "metadata": {},
     "output_type": "execute_result"
    }
   ],
   "source": [
    "wikipedia.run(\"Narendra Modi\")"
   ]
  },
  {
   "cell_type": "code",
   "execution_count": 26,
   "metadata": {},
   "outputs": [],
   "source": [
    "from langchain_community.tools import YouTubeSearchTool"
   ]
  },
  {
   "cell_type": "code",
   "execution_count": 27,
   "metadata": {},
   "outputs": [],
   "source": [
    "tool = YouTubeSearchTool()"
   ]
  },
  {
   "cell_type": "code",
   "execution_count": 30,
   "metadata": {},
   "outputs": [
    {
     "data": {
      "text/plain": [
       "\"['https://www.youtube.com/watch?v=ojxtZ2p6krw&pp=ygU9TWVkaGFuc2ggQmlydGhkYXkgdXBsb2FkZWQgdGhyb3VnaCBDSCBWIGtvdGVzd2FyYSByYW8gYWNjb3VudNIHCQmyCQGHKiGM7w%3D%3D']\""
      ]
     },
     "execution_count": 30,
     "metadata": {},
     "output_type": "execute_result"
    }
   ],
   "source": [
    "tool.run(\"Medhansh Birthday uploaded through CH V koteswara rao account,1\")"
   ]
  },
  {
   "cell_type": "code",
   "execution_count": 3,
   "metadata": {},
   "outputs": [
    {
     "data": {
      "text/plain": [
       "True"
      ]
     },
     "execution_count": 3,
     "metadata": {},
     "output_type": "execute_result"
    }
   ],
   "source": [
    "import os\n",
    "from dotenv import load_dotenv\n",
    "load_dotenv()"
   ]
  },
  {
   "cell_type": "code",
   "execution_count": 4,
   "metadata": {},
   "outputs": [],
   "source": [
    "from langchain_tavily import TavilySearch"
   ]
  },
  {
   "cell_type": "code",
   "execution_count": 5,
   "metadata": {},
   "outputs": [],
   "source": [
    "tool = TavilySearch(\n",
    "    max_results=5,\n",
    "    topic=\"general\",\n",
    "    # include_answer=False,\n",
    "    # include_raw_content=False,\n",
    "    # include_images=False,\n",
    "    # include_image_descriptions=False,\n",
    "    # search_depth=\"basic\",\n",
    "    # time_range=\"day\",\n",
    "    # include_domains=None,\n",
    "    # exclude_domains=None\n",
    ")"
   ]
  },
  {
   "cell_type": "code",
   "execution_count": 6,
   "metadata": {},
   "outputs": [
    {
     "data": {
      "text/plain": [
       "{'query': 'give details about hydra action in ameenpur in 2025 May',\n",
       " 'follow_up_questions': None,\n",
       " 'answer': None,\n",
       " 'images': [],\n",
       " 'results': [{'title': 'HYDRAA Commissioner promises time-bound inquiry into Ameenpur ...',\n",
       "   'url': 'https://www.thehindu.com/news/national/telangana/hydraa-commissioner-promises-time-bound-inquiry-into-ameenpur-encroachments/article68885617.ece',\n",
       "   'content': 'HYDRAA Commissioner AV Ranganath addresses encroachment complaints in Hyderabad, vows to investigate and take action promptly. May 29, 2025 e-Paper LOGIN Account',\n",
       "   'score': 0.7722049,\n",
       "   'raw_content': None},\n",
       "  {'title': 'HYDRAA chief announces police station, survey team for Ameenpur land ...',\n",
       "   'url': 'https://www.newindianexpress.com/cities/hyderabad/2025/Feb/08/hydraa-chief-announces-police-station-survey-team-for-ameenpur-land-encroachments',\n",
       "   'content': '08 Feb 2025, 4:53 am. ... He also announced the establishment of a HYDRAA police station and a survey team to verify the encroachments in Ameenpur municipality. ... We will take strict action',\n",
       "   'score': 0.67192334,\n",
       "   'raw_content': None},\n",
       "  {'title': 'Hydraa razes encroachments near Ameenpur lake',\n",
       "   'url': 'https://timesofindia.indiatimes.com/city/hyderabad/hydraa-razes-encroachments-near-ameenpur-lake/articleshow/117653268.cms',\n",
       "   'content': 'Hyderabad: The Hyderabad Disaster Response and Asset Protection and Monitoring Agency (Hydraa) resumed demolition of illegal encroachments near Ameenp.',\n",
       "   'score': 0.47431523,\n",
       "   'raw_content': None},\n",
       "  {'title': \"HYDRAA's Demolition Drive in Ameenpur and Kukatpally Illegal Structures ...\",\n",
       "   'url': 'https://www.tgnns.com/telangana/hydraas-demolition-drive-in-ameenpur-and-kukatpally-illegal-structures-face-the-wrecking-ball/2024/09/22/',\n",
       "   'content': \"HYDRAA's Demolition Drive in Ameenpur and Kukatpally Illegal Structures Face the Wrecking Ball - Telangana NavaNirmana Sena x continues its relentless drive to demolish illegal structures in Ameenpur and Kukatpally, sparking tension among local residents. HYDRAA’s strategy in Kukatpally involved sparing residential buildings but demolishing the 16 illegal sheds constructed in the encroached area. HYDRAA’s demolition activities in Ameenpur and Kukatpally are part of a broader initiative aimed at clearing illegal constructions across Hyderabad and its surrounding areas. While the government has made it clear that illegal constructions will be removed, many individuals are left grappling with the sudden loss of their homes and businesses. HYDRAA’s demolition drive in Ameenpur and Kukatpally highlights the ongoing struggle between government authorities and illegal land developers. Image 6Telangana State Image 7Telangana State Image 8Telangana State\",\n",
       "   'score': 0.43856934,\n",
       "   'raw_content': None},\n",
       "  {'title': 'HYDRA demolitions continue near lakes in Ameenpur, Dundigal',\n",
       "   'url': 'https://www.thehansindia.com/news/cities/hyderabad/hydra-demolitions-continue-near-lakes-in-ameenpur-dundigal-905419',\n",
       "   'content': 'Also Read - Image 14: news-imageTension erupts as HYDRA razes illegal structures in Jubilee Hills Image 16: Hydra Demolishes Illegal Structures in Gachibowli, Hyderabad Image 17: Hydra Demolishes Illegal Structures in Gachibowli, Hyderabad Image 18: Hydra Demolishes Illegal Structures in Gachibowli, Hyderabad Image 19: Hydra Demolishes Illegal Structures in Gachibowli, Hyderabad Image 20: Hydra Demolishes Illegal Structures in Gachibowli, Hyderabad Image 21: Hydra Demolishes Illegal Structures in Gachibowli, Hyderabad Image 22: Hydra Demolishes Illegal Structures in Gachibowli, Hyderabad Image 23: Hydra Demolishes Illegal Structures in Gachibowli, Hyderabad Image 24: Hydra Demolishes Illegal Structures in Gachibowli, Hyderabad Image 25: Hydra Demolishes Illegal Structures in Gachibowli, Hyderabad Image 26: Hydra Demolishes Illegal Structures in Gachibowli, Hyderabad Image 27: Hydra Demolishes Illegal Structures in Gachibowli, Hyderabad',\n",
       "   'score': 0.3808286,\n",
       "   'raw_content': None}],\n",
       " 'response_time': 2.0}"
      ]
     },
     "execution_count": 6,
     "metadata": {},
     "output_type": "execute_result"
    }
   ],
   "source": [
    "tool.invoke({\"query\": \"give details about hydra action in ameenpur in 2025 May\"})"
   ]
  },
  {
   "cell_type": "code",
   "execution_count": 7,
   "metadata": {},
   "outputs": [],
   "source": [
    "from langchain_core.tools import tool"
   ]
  },
  {
   "cell_type": "code",
   "execution_count": 19,
   "metadata": {},
   "outputs": [],
   "source": [
    "@tool\n",
    "def multiply(a: int, b: int) -> int:\n",
    "    \"\"\"Multiply two numbers.\"\"\"\n",
    "    return a * b"
   ]
  },
  {
   "cell_type": "code",
   "execution_count": 20,
   "metadata": {},
   "outputs": [
    {
     "data": {
      "text/plain": [
       "'Multiply two numbers.'"
      ]
     },
     "execution_count": 20,
     "metadata": {},
     "output_type": "execute_result"
    }
   ],
   "source": [
    "multiply.description"
   ]
  },
  {
   "cell_type": "code",
   "execution_count": 21,
   "metadata": {},
   "outputs": [
    {
     "data": {
      "text/plain": [
       "'multiply'"
      ]
     },
     "execution_count": 21,
     "metadata": {},
     "output_type": "execute_result"
    }
   ],
   "source": [
    "multiply.name"
   ]
  },
  {
   "cell_type": "code",
   "execution_count": 22,
   "metadata": {},
   "outputs": [
    {
     "data": {
      "text/plain": [
       "{'a': {'title': 'A', 'type': 'integer'},\n",
       " 'b': {'title': 'B', 'type': 'integer'}}"
      ]
     },
     "execution_count": 22,
     "metadata": {},
     "output_type": "execute_result"
    }
   ],
   "source": [
    "multiply.args"
   ]
  },
  {
   "cell_type": "code",
   "execution_count": 23,
   "metadata": {},
   "outputs": [
    {
     "data": {
      "text/plain": [
       "6"
      ]
     },
     "execution_count": 23,
     "metadata": {},
     "output_type": "execute_result"
    }
   ],
   "source": [
    "multiply.invoke({\"a\": 2, \"b\": 3})"
   ]
  },
  {
   "cell_type": "code",
   "execution_count": null,
   "metadata": {},
   "outputs": [],
   "source": []
  }
 ],
 "metadata": {
  "kernelspec": {
   "display_name": "Python 3",
   "language": "python",
   "name": "python3"
  },
  "language_info": {
   "codemirror_mode": {
    "name": "ipython",
    "version": 3
   },
   "file_extension": ".py",
   "mimetype": "text/x-python",
   "name": "python",
   "nbconvert_exporter": "python",
   "pygments_lexer": "ipython3",
   "version": "3.13.2"
  }
 },
 "nbformat": 4,
 "nbformat_minor": 2
}
